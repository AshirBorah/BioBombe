{
 "cells": [
  {
   "cell_type": "code",
   "execution_count": 1,
   "metadata": {},
   "outputs": [],
   "source": [
    "import os\n",
    "import pandas as pd\n",
    "\n",
    "from sklearn.linear_model import SGDClassifier\n",
    "from sklearn.model_selection import train_test_split, cross_val_predict\n",
    "from dask_searchcv import GridSearchCV\n",
    "from sklearn.pipeline import Pipeline\n",
    "from sklearn.preprocessing import StandardScaler"
   ]
  },
  {
   "cell_type": "code",
   "execution_count": 2,
   "metadata": {},
   "outputs": [],
   "source": [
    "# Load constants\n",
    "genes = ['TP53', ['KRAS', 'HRAS', 'NRAS']]"
   ]
  },
  {
   "cell_type": "code",
   "execution_count": 3,
   "metadata": {},
   "outputs": [],
   "source": [
    "# Load training data\n",
    "base_url = 'https://github.com/greenelab/pancancer/raw'\n",
    "commit='9fd9afbecdbb4f855ecc85bb282fc59e75c7744f'\n",
    "\n",
    "mut_file = '{}/{}/data/pancan_mutation_freeze.tsv.gz'.format(base_url, commit)\n",
    "mut_burden_file = '{}/{}/data/mutation_burden_freeze.tsv'.format(base_url, commit)\n",
    "sample_freeze_file = '{}/{}/data/sampleset_freeze.csv'.format(base_url, commit)\n",
    "\n",
    "mutation_df = pd.read_table(mut_file, index_col=0)\n",
    "sample_freeze = pd.read_table(sample_freeze_file, index_col=0)\n",
    "mut_burden = pd.read_table(mut_burden_file)"
   ]
  }
 ],
 "metadata": {
  "kernelspec": {
   "display_name": "Python [conda env:interpret-compression]",
   "language": "python",
   "name": "conda-env-interpret-compression-py"
  },
  "language_info": {
   "codemirror_mode": {
    "name": "ipython",
    "version": 3
   },
   "file_extension": ".py",
   "mimetype": "text/x-python",
   "name": "python",
   "nbconvert_exporter": "python",
   "pygments_lexer": "ipython3",
   "version": "3.6.7"
  }
 },
 "nbformat": 4,
 "nbformat_minor": 2
}
